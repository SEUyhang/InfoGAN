{
 "cells": [
  {
   "cell_type": "code",
   "execution_count": 1,
   "metadata": {},
   "outputs": [],
   "source": [
    "import torch\n",
    "import torch.nn as nn\n",
    "import torch.optim as optim\n",
    "import torchvision.utils as vutils\n",
    "import numpy as np\n",
    "import matplotlib.pyplot as plt\n",
    "import matplotlib.animation as animation\n",
    "import time\n",
    "import random\n",
    "\n",
    "from dataloader import get_data\n",
    "from utils import *\n",
    "from config import params\n",
    "from models.texbat_model import Generator, Discriminator, DHead, QHead, CHead\n"
   ]
  },
  {
   "cell_type": "markdown",
   "metadata": {},
   "source": [
    "# 加载训练好的模型"
   ]
  },
  {
   "cell_type": "code",
   "execution_count": 2,
   "metadata": {},
   "outputs": [
    {
     "name": "stdout",
     "output_type": "stream",
     "text": [
      "Random Seed:  1123\n",
      "cuda:1  will be used.\n",
      "\n",
      "{'batch_size': 128, 'num_epochs': 100, 'D_learning_rate': 0.0002, 'G_learning_rate': 0.0002, 'beta1': 0.5, 'beta2': 0.999, 'save_epoch': 25, 'dataset': 'TEXBAT', 'num_z': 256, 'num_dis_c': 1, 'dis_c_dim': 3, 'num_con_c': 0}\n",
      "Length of dataloader:  527\n"
     ]
    }
   ],
   "source": [
    "# Set random seed for reproducibility.\n",
    "seed = 1123\n",
    "random.seed(seed)\n",
    "torch.manual_seed(seed)\n",
    "print(\"Random Seed: \", seed)\n",
    "\n",
    "# Use GPU if available.\n",
    "device = torch.device(\"cuda:1\" if(torch.cuda.is_available()) else \"cpu\")\n",
    "print(device, \" will be used.\\n\")\n",
    "\n",
    "#load model\n",
    "log = torch.load(\"/home/yhang/GAN/InfoGAN-PyTorch/checkpoint/classifier/model_epoch_100_TEXBAT_learningrate_0\")\n",
    "print(log[\"params\"])\n",
    "\n",
    "#load data\n",
    "dataloader = get_data(\"TEXBAT\", params[\"batch_size\"], \"test\")\n",
    "# the length of the dataloader\n",
    "print(\"Length of dataloader: \", len(dataloader))"
   ]
  },
  {
   "cell_type": "code",
   "execution_count": 3,
   "metadata": {},
   "outputs": [
    {
     "data": {
      "text/plain": [
       "<All keys matched successfully>"
      ]
     },
     "execution_count": 3,
     "metadata": {},
     "output_type": "execute_result"
    }
   ],
   "source": [
    "discriminator = Discriminator().to(device)\n",
    "discriminator.load_state_dict(log[\"discriminator\"])\n",
    "netQ = QHead().to(device)\n",
    "netQ.load_state_dict(log[\"netQ\"])"
   ]
  },
  {
   "cell_type": "code",
   "execution_count": 4,
   "metadata": {},
   "outputs": [
    {
     "name": "stdout",
     "output_type": "stream",
     "text": [
      "-------------------------\n",
      "Starting Testing Loop...\n",
      "\n",
      "-------------------------\n"
     ]
    },
    {
     "name": "stderr",
     "output_type": "stream",
     "text": [
      "/tmp/ipykernel_8074/4203654173.py:26: UserWarning: To copy construct from a tensor, it is recommended to use sourceTensor.clone().detach() or sourceTensor.clone().detach().requires_grad_(True), rather than torch.tensor(sourceTensor).\n",
      "  target = torch.tensor(labels.view(1, b_size), dtype=torch.long).squeeze(0)\n"
     ]
    },
    {
     "name": "stdout",
     "output_type": "stream",
     "text": [
      "Clean Accuracy:  0.9998656816655473\n",
      "ds3 Accuracy:  0.5677668695304517\n",
      "ds4 Accuracy:  0.565546218487395\n",
      "Detect Accuracy:  0.5666541078433546\n",
      "spoof 45121\n",
      "spoof_predict 25568\n",
      "num_clean_data 22335\n",
      "num_clean_predict 22332\n",
      "total:  67456\n"
     ]
    }
   ],
   "source": [
    "print(\"-\"*25)\n",
    "print(\"Starting Testing Loop...\\n\")\n",
    "print(\"-\"*25)\n",
    "\n",
    "total = 0\n",
    "correct = 0\n",
    "spoof_predict = 0\n",
    "spoof_data = 0\n",
    "num_clean_predict = 0   # 预测正确的clean类别数量\n",
    "num_clean_data = 0      # 数据集中的clean数据数量\n",
    "num_ds3_predict = 0     # 预测正确的ds3类别数量\n",
    "num_ds3_data = 0        # 数据集的ds3类别数量\n",
    "num_ds4_predict = 0     # 预测正确的ds4类别数量\n",
    "num_ds4_data = 0        # 数据集中的ds4数据数量\n",
    "# num_ds8_predict = 0     # 预测正确的ds8类别数量\n",
    "# num_ds8_data = 0        # 数据集中的ds8数据数量\n",
    "\n",
    "# 在评估模式下，我们不需要计算梯度\n",
    "with torch.no_grad():  \n",
    "    for data, labels in dataloader:\n",
    "        data, labels = data.to(device), labels.to(device)\n",
    "        b_size = data.size(0)\n",
    "        # Real data Loss\n",
    "        output1 = discriminator(data)\n",
    "        probs_real, q_mu, q_var = netQ(output1)\n",
    "        target = torch.tensor(labels.view(1, b_size), dtype=torch.long).squeeze(0)\n",
    "        # 取probs_realz中最大值的索引作为预测类别\n",
    "        _, predicted = torch.max(probs_real, 1)\n",
    "        total += b_size\n",
    "        # correct += (predicted == target).sum().item()\n",
    "        for i in range(b_size):\n",
    "            if target[i] == 0:\n",
    "                num_clean_data += 1\n",
    "                if predicted[i] == 0:\n",
    "                    num_clean_predict += 1\n",
    "            elif target[i] == 1:\n",
    "                num_ds3_data += 1\n",
    "                spoof_data += 1\n",
    "                if predicted[i] == 1:\n",
    "                    num_ds3_predict += 1\n",
    "                    spoof_predict += 1\n",
    "            elif target[i] == 2:\n",
    "                num_ds4_data += 1\n",
    "                spoof_data += 1\n",
    "                if predicted[i] == 2:\n",
    "                    spoof_predict += 1\n",
    "                    num_ds4_predict += 1\n",
    "            if(predicted[i] not in [0, 1, 2]):\n",
    "                print(predicted[i])\n",
    "            \n",
    "# print(\"Accuracy: \", correct/total)\n",
    "print(\"Clean Accuracy: \", num_clean_predict/num_clean_data)   \n",
    "print(\"ds3 Accuracy: \", num_ds3_predict/num_ds3_data)   \n",
    "print(\"ds4 Accuracy: \", num_ds4_predict/num_ds4_data)   \n",
    "print(\"Detect Accuracy: \", spoof_predict/spoof_data)            \n",
    "print('spoof' , spoof_data)\n",
    "print('spoof_predict', spoof_predict)\n",
    "print('num_clean_data', num_clean_data)\n",
    "print('num_clean_predict', num_clean_predict)\n",
    "print(\"total: \", total)     \n",
    "        "
   ]
  }
 ],
 "metadata": {
  "kernelspec": {
   "display_name": "GNSS",
   "language": "python",
   "name": "python3"
  },
  "language_info": {
   "codemirror_mode": {
    "name": "ipython",
    "version": 3
   },
   "file_extension": ".py",
   "mimetype": "text/x-python",
   "name": "python",
   "nbconvert_exporter": "python",
   "pygments_lexer": "ipython3",
   "version": "3.10.13"
  }
 },
 "nbformat": 4,
 "nbformat_minor": 2
}
