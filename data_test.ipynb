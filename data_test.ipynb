{
 "cells": [
  {
   "cell_type": "markdown",
   "metadata": {},
   "source": [
    "# 环境准备"
   ]
  },
  {
   "cell_type": "code",
   "execution_count": 9,
   "metadata": {},
   "outputs": [],
   "source": [
    "import torch\n",
    "import torch.nn as nn\n",
    "import torch.optim as optim\n",
    "import torchvision.utils as vutils\n",
    "import numpy as np\n",
    "import matplotlib.pyplot as plt\n",
    "import matplotlib.animation as animation\n",
    "import time\n",
    "import random\n",
    "\n",
    "from dataloader import get_data\n",
    "from utils import *\n",
    "from config import params\n",
    "from models.texbat_model import Generator, Discriminator, DHead, QHead"
   ]
  },
  {
   "cell_type": "code",
   "execution_count": 10,
   "metadata": {},
   "outputs": [
    {
     "name": "stdout",
     "output_type": "stream",
     "text": [
      "Random Seed:  1123\n",
      "cuda:0  will be used.\n",
      "\n"
     ]
    }
   ],
   "source": [
    "# Set random seed for reproducibility.\n",
    "seed = 1123\n",
    "random.seed(seed)\n",
    "torch.manual_seed(seed)\n",
    "print(\"Random Seed: \", seed)\n",
    "\n",
    "# Use GPU if available.\n",
    "device = torch.device(\"cuda:0\" if(torch.cuda.is_available()) else \"cpu\")\n",
    "print(device, \" will be used.\\n\")"
   ]
  },
  {
   "cell_type": "markdown",
   "metadata": {},
   "source": [
    "# 加载数据及训练好的模型"
   ]
  },
  {
   "cell_type": "code",
   "execution_count": 11,
   "metadata": {},
   "outputs": [
    {
     "name": "stdout",
     "output_type": "stream",
     "text": [
      "{'batch_size': 128, 'num_epochs': 100, 'D_learning_rate': 1.3e-06, 'G_learning_rate': 0.0002, 'beta1': 0.5, 'beta2': 0.999, 'save_epoch': 25, 'dataset': 'TEXBAT', 'num_z': 256, 'num_dis_c': 0, 'dis_c_dim': 0, 'num_con_c': 8}\n"
     ]
    }
   ],
   "source": [
    "log = torch.load(\"/home/yhang/GAN/InfoGAN-PyTorch/checkpoint/demo8/model_epoch_50_TEXBAT_learningrate_0\")\n",
    "print(log[\"params\"])"
   ]
  },
  {
   "cell_type": "code",
   "execution_count": 12,
   "metadata": {},
   "outputs": [
    {
     "data": {
      "text/plain": [
       "DHead(\n",
       "  (dis): Linear(in_features=128, out_features=1, bias=True)\n",
       ")"
      ]
     },
     "execution_count": 12,
     "metadata": {},
     "output_type": "execute_result"
    }
   ],
   "source": [
    "discriminator = Discriminator().to(device)\n",
    "discriminator.load_state_dict(log[\"discriminator\"])\n",
    "netD = DHead().to(device)\n",
    "netD.load_state_dict(log[\"netD\"])\n",
    "discriminator.eval()\n",
    "netD.eval()\n"
   ]
  },
  {
   "cell_type": "code",
   "execution_count": 17,
   "metadata": {},
   "outputs": [
    {
     "name": "stdout",
     "output_type": "stream",
     "text": [
      "Accuracy of the network on the test data: 98.695691 %\n",
      "TPR/Recall of the network on the test data: 0.979451 %\n",
      "TNR of the network on the test data: 0.994877 %\n",
      "Precision of the network on the test data: 0.994849 %\n",
      "FPR of the network on the test data: 0.005123 %\n",
      "FNR of the network on the test data: 0.020549 %\n"
     ]
    }
   ],
   "source": [
    "dataloader = get_data(\"TEXBAT\", params[\"batch_size\"], \"test\")\n",
    "correct = 0\n",
    "total = 0\n",
    "TP = 0 # 真正例\n",
    "FP = 0 # 假正例\n",
    "TN = 0 # 真反例\n",
    "FN = 0 # 假反例\n",
    "threshold = 0.5\n",
    "\n",
    "with torch.no_grad():  # 在评估模式下，我们不需要计算梯度\n",
    "    for data, labels in dataloader:\n",
    "        data, labels = data.to(device), labels.to(device)\n",
    "        outputs = discriminator(data)\n",
    "        outputs = netD(outputs)\n",
    "        predicted = (outputs > threshold).float()  # 使用0.5作为阈值来获取预测的标签\n",
    "        total += labels.size(0)\n",
    "        correct += (predicted == labels).sum().item()\n",
    "        TP += (labels > threshold).sum().item()\n",
    "        FP += (predicted > labels).sum().item()\n",
    "        TN += (labels <= threshold).sum().item()\n",
    "        FN += (predicted < labels).sum().item()\n",
    "\n",
    "# 准确率\n",
    "accuracy = 100 * correct / total\n",
    "# 真阳性率/召回率(找的全)\n",
    "TPR = TP / (TP + FN)\n",
    "# 真阴性率\n",
    "TNR = TN / (TN + FP)\n",
    "# 精确率\n",
    "Precision = TP / (TP + FP)\n",
    "# 假阳率(误认为是真信号)\n",
    "FPR = FP / (FP + TN)\n",
    "# 假阴率(误认为是欺骗信号)\n",
    "FNR = FN / (FN + TP)\n",
    "print('Accuracy of the network on the test data: %f %%' % accuracy)\n",
    "print('TPR/Recall of the network on the test data: %f %%' % TPR)\n",
    "print('TNR of the network on the test data: %f %%' % TNR)\n",
    "print('Precision of the network on the test data: %f %%' % Precision)\n",
    "print('FPR of the network on the test data: %f %%' % FPR)\n",
    "print('FNR of the network on the test data: %f %%' % FNR)\n"
   ]
  },
  {
   "cell_type": "code",
   "execution_count": 20,
   "metadata": {},
   "outputs": [
    {
     "name": "stdout",
     "output_type": "stream",
     "text": [
      "Accuracy of the network on the test data: 88.535278 %\n",
      "TPR/Recall of the network on the test data: 81.807703 %\n",
      "TNR of the network on the test data: 93.442128 %\n",
      "FPR of the network on the test data: 6.557872 %\n",
      "FNR of the network on the test data: 18.192297 %\n"
     ]
    }
   ],
   "source": [
    "TP = 55356 # 真正例\n",
    "FP = 6084 # 假正例\n",
    "TN = 86690 # 真反例\n",
    "FN = 12310 # 假反例\n",
    "\n",
    "\n",
    "accuracy = 100 * (TP + TN) / (TP + TN + FP + FN)\n",
    "# 真阳性率/召回率(找的全)\n",
    "TPR = 100 * TP / (TP + FN)\n",
    "# 真阴性率\n",
    "TNR = 100 * TN / (TN + FP)\n",
    "# 假阳率(误认为是真信号)\n",
    "FPR = 100 * FP / (FP + TN)\n",
    "# 假阴率(误认为是欺骗信号)\n",
    "FNR = 100 * FN / (FN + TP)\n",
    "\n",
    "print('Accuracy of the network on the test data: %f %%' % accuracy)\n",
    "print('TPR/Recall of the network on the test data: %f %%' % TPR)\n",
    "print('TNR of the network on the test data: %f %%' % TNR)\n",
    "print('FPR of the network on the test data: %f %%' % FPR)\n",
    "print('FNR of the network on the test data: %f %%' % FNR)"
   ]
  },
  {
   "cell_type": "code",
   "execution_count": 1,
   "metadata": {},
   "outputs": [
    {
     "data": {
      "text/plain": [
       "tensor([0.], device='cuda:0')"
      ]
     },
     "execution_count": 1,
     "metadata": {},
     "output_type": "execute_result"
    }
   ],
   "source": [
    "import torch\n",
    "torch.cuda.is_available()\n",
    "# 返回True 接着用下列代码进一步测试\n",
    "torch.zeros(1).cuda()\n"
   ]
  },
  {
   "cell_type": "code",
   "execution_count": 8,
   "metadata": {},
   "outputs": [
    {
     "name": "stdout",
     "output_type": "stream",
     "text": [
      "[1. 2.]\n"
     ]
    }
   ],
   "source": [
    "import numpy as np\n",
    "data = np.array([1.0, 2.0])\n",
    "print(data)\n",
    "np.savetxt('./plotData/a.txt', data)"
   ]
  }
 ],
 "metadata": {
  "kernelspec": {
   "display_name": "GNSS",
   "language": "python",
   "name": "python3"
  },
  "language_info": {
   "codemirror_mode": {
    "name": "ipython",
    "version": 3
   },
   "file_extension": ".py",
   "mimetype": "text/x-python",
   "name": "python",
   "nbconvert_exporter": "python",
   "pygments_lexer": "ipython3",
   "version": "3.7.16"
  }
 },
 "nbformat": 4,
 "nbformat_minor": 2
}
